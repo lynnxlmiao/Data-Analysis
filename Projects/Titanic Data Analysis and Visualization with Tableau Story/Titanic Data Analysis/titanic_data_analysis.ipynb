{
 "cells": [
  {
   "cell_type": "markdown",
   "metadata": {},
   "source": [
    "\n",
    "# Titanic Data Analysis #\n",
    "\n",
    "## Introduction ##\n",
    "\n",
    "The sinking of the RMS Titanic is one of the most infamous shipwrecks in history.  On April 15, 1912, during her maiden voyage, the Titanic sank after colliding with an iceberg, killing 1502 out of 2224 passengers and crew. This sensational tragedy shocked the international community and led to better safety regulations for ships.\n",
    "\n",
    "One of the reasons that the shipwreck led to such loss of life was that there were not enough lifeboats for the passengers and crew. Although there was some element of luck involved in surviving the sinking, some groups of people were more likely to survive than others, such as women, children, and the upper-class. Source: [Kaggle Titanic Competition](https://www.kaggle.com/c/titanic)\n",
    "\n",
    "This project will complete the analysis of Titanic Data to explore the factors that made people more likely to survive.\n",
    "\n",
    "## Questions ##\n",
    "What factors made people more likely to survive?\n",
    "+ Did chance of survival depend on Sex?\n",
    "+ Did one's ticket class realted to the chance of survival?\n",
    "+ Did Age influence one's chance of survival?"
   ]
  },
  {
   "cell_type": "markdown",
   "metadata": {},
   "source": [
    "## Data Wrangling ##\n",
    "### Data Description ###\n",
    "Firstly, let's look at the data. (Data source:[Kaggle Titanic Data](https://www.kaggle.com/c/titanic/data))\n",
    "\n",
    "**Data Dictionary**\n",
    "\n",
    "|Variable\t|Definition|Key|\n",
    "|:--------- |:---------|:--|\n",
    "|survival\t|Survival  |0 = No, 1 = Yes|\n",
    "|pclass\t    |Ticket class|1 = 1st, 2 = 2nd, 3 = 3rd|\n",
    "|sex\t    |Sex\t   | |\n",
    "|Age\t    |Age in years| |\n",
    "|sibsp\t    |# of siblings / spouses aboard the Titanic| |\n",
    "|parch\t    |# of parents / children aboard the Titanic| |\n",
    "|ticket\t    |Ticket number|\t |\n",
    "|fare\t    |Passenger fare| |\t\n",
    "|cabin\t    |Cabin number|\t|\n",
    "|embarked   |Port of Embarkation|C = Cherbourg, Q = Queenstown, S = Southampton|\n",
    "\n",
    "**Variable Notes**\n",
    "\n",
    "pclass: A proxy for socio-economic status (SES)  \n",
    "1st = Upper  \n",
    "2nd = Middle  \n",
    "3rd = Lower\n",
    "\n",
    "age: Age is fractional if less than 1. If the age is estimated, is it in the form of xx.5\n",
    "\n",
    "sibsp: The dataset defines family relations in this way...\n",
    "Sibling = brother, sister, stepbrother, stepsister\n",
    "Spouse = husband, wife (mistresses and fiancés were ignored)\n",
    "\n",
    "parch: The dataset defines family relations in this way...\n",
    "Parent = mother, father\n",
    "Child = daughter, son, stepdaughter, stepson\n",
    "Some children travelled only with a nanny, therefore parch=0 for them."
   ]
  },
  {
   "cell_type": "code",
   "execution_count": 2,
   "metadata": {
    "collapsed": true
   },
   "outputs": [],
   "source": [
    "import pandas as pd\n",
    "import numpy as np\n",
    "import matplotlib.pyplot as plt\n",
    "import seaborn as sns\n",
    "\n",
    "#load data, r for raw string to avoid unicode error\n",
    "titanic_data_raw = pd.read_csv(r\"C:\\Files\\Udacity\\Data Analyst Nanodegree\\Part 3\\Project-Titanic Data Analysis\\titanic-data.csv\")"
   ]
  },
  {
   "cell_type": "code",
   "execution_count": 3,
   "metadata": {},
   "outputs": [
    {
     "data": {
      "text/html": [
       "<div>\n",
       "<style>\n",
       "    .dataframe thead tr:only-child th {\n",
       "        text-align: right;\n",
       "    }\n",
       "\n",
       "    .dataframe thead th {\n",
       "        text-align: left;\n",
       "    }\n",
       "\n",
       "    .dataframe tbody tr th {\n",
       "        vertical-align: top;\n",
       "    }\n",
       "</style>\n",
       "<table border=\"1\" class=\"dataframe\">\n",
       "  <thead>\n",
       "    <tr style=\"text-align: right;\">\n",
       "      <th></th>\n",
       "      <th>PassengerId</th>\n",
       "      <th>Survived</th>\n",
       "      <th>Pclass</th>\n",
       "      <th>Name</th>\n",
       "      <th>Sex</th>\n",
       "      <th>Age</th>\n",
       "      <th>SibSp</th>\n",
       "      <th>Parch</th>\n",
       "      <th>Ticket</th>\n",
       "      <th>Fare</th>\n",
       "      <th>Cabin</th>\n",
       "      <th>Embarked</th>\n",
       "    </tr>\n",
       "  </thead>\n",
       "  <tbody>\n",
       "    <tr>\n",
       "      <th>0</th>\n",
       "      <td>1</td>\n",
       "      <td>0</td>\n",
       "      <td>3</td>\n",
       "      <td>Braund, Mr. Owen Harris</td>\n",
       "      <td>male</td>\n",
       "      <td>22.0</td>\n",
       "      <td>1</td>\n",
       "      <td>0</td>\n",
       "      <td>A/5 21171</td>\n",
       "      <td>7.2500</td>\n",
       "      <td>NaN</td>\n",
       "      <td>S</td>\n",
       "    </tr>\n",
       "    <tr>\n",
       "      <th>1</th>\n",
       "      <td>2</td>\n",
       "      <td>1</td>\n",
       "      <td>1</td>\n",
       "      <td>Cumings, Mrs. John Bradley (Florence Briggs Th...</td>\n",
       "      <td>female</td>\n",
       "      <td>38.0</td>\n",
       "      <td>1</td>\n",
       "      <td>0</td>\n",
       "      <td>PC 17599</td>\n",
       "      <td>71.2833</td>\n",
       "      <td>C85</td>\n",
       "      <td>C</td>\n",
       "    </tr>\n",
       "    <tr>\n",
       "      <th>2</th>\n",
       "      <td>3</td>\n",
       "      <td>1</td>\n",
       "      <td>3</td>\n",
       "      <td>Heikkinen, Miss. Laina</td>\n",
       "      <td>female</td>\n",
       "      <td>26.0</td>\n",
       "      <td>0</td>\n",
       "      <td>0</td>\n",
       "      <td>STON/O2. 3101282</td>\n",
       "      <td>7.9250</td>\n",
       "      <td>NaN</td>\n",
       "      <td>S</td>\n",
       "    </tr>\n",
       "    <tr>\n",
       "      <th>3</th>\n",
       "      <td>4</td>\n",
       "      <td>1</td>\n",
       "      <td>1</td>\n",
       "      <td>Futrelle, Mrs. Jacques Heath (Lily May Peel)</td>\n",
       "      <td>female</td>\n",
       "      <td>35.0</td>\n",
       "      <td>1</td>\n",
       "      <td>0</td>\n",
       "      <td>113803</td>\n",
       "      <td>53.1000</td>\n",
       "      <td>C123</td>\n",
       "      <td>S</td>\n",
       "    </tr>\n",
       "    <tr>\n",
       "      <th>4</th>\n",
       "      <td>5</td>\n",
       "      <td>0</td>\n",
       "      <td>3</td>\n",
       "      <td>Allen, Mr. William Henry</td>\n",
       "      <td>male</td>\n",
       "      <td>35.0</td>\n",
       "      <td>0</td>\n",
       "      <td>0</td>\n",
       "      <td>373450</td>\n",
       "      <td>8.0500</td>\n",
       "      <td>NaN</td>\n",
       "      <td>S</td>\n",
       "    </tr>\n",
       "  </tbody>\n",
       "</table>\n",
       "</div>"
      ],
      "text/plain": [
       "   PassengerId  Survived  Pclass  \\\n",
       "0            1         0       3   \n",
       "1            2         1       1   \n",
       "2            3         1       3   \n",
       "3            4         1       1   \n",
       "4            5         0       3   \n",
       "\n",
       "                                                Name     Sex   Age  SibSp  \\\n",
       "0                            Braund, Mr. Owen Harris    male  22.0      1   \n",
       "1  Cumings, Mrs. John Bradley (Florence Briggs Th...  female  38.0      1   \n",
       "2                             Heikkinen, Miss. Laina  female  26.0      0   \n",
       "3       Futrelle, Mrs. Jacques Heath (Lily May Peel)  female  35.0      1   \n",
       "4                           Allen, Mr. William Henry    male  35.0      0   \n",
       "\n",
       "   Parch            Ticket     Fare Cabin Embarked  \n",
       "0      0         A/5 21171   7.2500   NaN        S  \n",
       "1      0          PC 17599  71.2833   C85        C  \n",
       "2      0  STON/O2. 3101282   7.9250   NaN        S  \n",
       "3      0            113803  53.1000  C123        S  \n",
       "4      0            373450   8.0500   NaN        S  "
      ]
     },
     "execution_count": 3,
     "metadata": {},
     "output_type": "execute_result"
    }
   ],
   "source": [
    "# Print the first few records\n",
    "titanic_data_raw.head()"
   ]
  },
  {
   "cell_type": "code",
   "execution_count": 4,
   "metadata": {},
   "outputs": [
    {
     "name": "stdout",
     "output_type": "stream",
     "text": [
      "<class 'pandas.core.frame.DataFrame'>\n",
      "RangeIndex: 891 entries, 0 to 890\n",
      "Data columns (total 12 columns):\n",
      "PassengerId    891 non-null int64\n",
      "Survived       891 non-null int64\n",
      "Pclass         891 non-null int64\n",
      "Name           891 non-null object\n",
      "Sex            891 non-null object\n",
      "Age            714 non-null float64\n",
      "SibSp          891 non-null int64\n",
      "Parch          891 non-null int64\n",
      "Ticket         891 non-null object\n",
      "Fare           891 non-null float64\n",
      "Cabin          204 non-null object\n",
      "Embarked       889 non-null object\n",
      "dtypes: float64(2), int64(5), object(5)\n",
      "memory usage: 83.6+ KB\n"
     ]
    }
   ],
   "source": [
    "titanic_data_raw.info()"
   ]
  },
  {
   "cell_type": "markdown",
   "metadata": {},
   "source": [
    "From the data info we can see there are 891 passagers' info intotal in our titanic data, and some attributes with unavailable data:\n",
    "+ Age, only 714 records among 891 passangers\n",
    "+ Cabin, even less records with 204 only among 891 passangers\n",
    "+ Embarded, 2 records are missing and 889 records are available\n",
    "\n",
    "So for further analysis the attribute \"Cabin\" will be excluded completely. And rows with unavailable \"Age\" data will also be excluded. And the 2 missing data in attribute \"Embarked\" will be fill in with \"X\" for unavailable cells so that these 2 rows will not be ignored when analyzing other attributes."
   ]
  },
  {
   "cell_type": "code",
   "execution_count": 5,
   "metadata": {},
   "outputs": [
    {
     "name": "stdout",
     "output_type": "stream",
     "text": [
      "There is/are 0 duplicated entry/entires.\n"
     ]
    }
   ],
   "source": [
    "#Check if there is duplicated entries\n",
    "data_duplicated = titanic_data_raw.duplicated()\n",
    "print 'There is/are {} duplicated entry/entires.'.format(data_duplicated.sum())"
   ]
  },
  {
   "cell_type": "markdown",
   "metadata": {},
   "source": [
    "From duplicated check we find there is no duplicated entries, so next step is to exclude the unavailable column \"Cabin\". Our question is what factors made people more likely to survive, and some attributes which with unique data will not be considered as the factors we want, such as \"PassengerId\", \"Name\", \"Ticket\" and \"Fare\"."
   ]
  },
  {
   "cell_type": "code",
   "execution_count": 6,
   "metadata": {},
   "outputs": [
    {
     "data": {
      "text/html": [
       "<div>\n",
       "<style>\n",
       "    .dataframe thead tr:only-child th {\n",
       "        text-align: right;\n",
       "    }\n",
       "\n",
       "    .dataframe thead th {\n",
       "        text-align: left;\n",
       "    }\n",
       "\n",
       "    .dataframe tbody tr th {\n",
       "        vertical-align: top;\n",
       "    }\n",
       "</style>\n",
       "<table border=\"1\" class=\"dataframe\">\n",
       "  <thead>\n",
       "    <tr style=\"text-align: right;\">\n",
       "      <th></th>\n",
       "      <th>Survived</th>\n",
       "      <th>Pclass</th>\n",
       "      <th>Sex</th>\n",
       "      <th>Age</th>\n",
       "      <th>SibSp</th>\n",
       "      <th>Parch</th>\n",
       "    </tr>\n",
       "  </thead>\n",
       "  <tbody>\n",
       "    <tr>\n",
       "      <th>0</th>\n",
       "      <td>0</td>\n",
       "      <td>3</td>\n",
       "      <td>male</td>\n",
       "      <td>22.0</td>\n",
       "      <td>1</td>\n",
       "      <td>0</td>\n",
       "    </tr>\n",
       "    <tr>\n",
       "      <th>1</th>\n",
       "      <td>1</td>\n",
       "      <td>1</td>\n",
       "      <td>female</td>\n",
       "      <td>38.0</td>\n",
       "      <td>1</td>\n",
       "      <td>0</td>\n",
       "    </tr>\n",
       "    <tr>\n",
       "      <th>2</th>\n",
       "      <td>1</td>\n",
       "      <td>3</td>\n",
       "      <td>female</td>\n",
       "      <td>26.0</td>\n",
       "      <td>0</td>\n",
       "      <td>0</td>\n",
       "    </tr>\n",
       "    <tr>\n",
       "      <th>3</th>\n",
       "      <td>1</td>\n",
       "      <td>1</td>\n",
       "      <td>female</td>\n",
       "      <td>35.0</td>\n",
       "      <td>1</td>\n",
       "      <td>0</td>\n",
       "    </tr>\n",
       "    <tr>\n",
       "      <th>4</th>\n",
       "      <td>0</td>\n",
       "      <td>3</td>\n",
       "      <td>male</td>\n",
       "      <td>35.0</td>\n",
       "      <td>0</td>\n",
       "      <td>0</td>\n",
       "    </tr>\n",
       "  </tbody>\n",
       "</table>\n",
       "</div>"
      ],
      "text/plain": [
       "   Survived  Pclass     Sex   Age  SibSp  Parch\n",
       "0         0       3    male  22.0      1      0\n",
       "1         1       1  female  38.0      1      0\n",
       "2         1       3  female  26.0      0      0\n",
       "3         1       1  female  35.0      1      0\n",
       "4         0       3    male  35.0      0      0"
      ]
     },
     "execution_count": 6,
     "metadata": {},
     "output_type": "execute_result"
    }
   ],
   "source": [
    "#Exclude unwanted colunmns\n",
    "titanic_data = titanic_data_raw.drop(['PassengerId', 'Name','Ticket','Fare','Cabin','Embarked'], axis=1)\n",
    "titanic_data.head()"
   ]
  },
  {
   "cell_type": "code",
   "execution_count": 7,
   "metadata": {},
   "outputs": [
    {
     "data": {
      "text/html": [
       "<div>\n",
       "<style>\n",
       "    .dataframe thead tr:only-child th {\n",
       "        text-align: right;\n",
       "    }\n",
       "\n",
       "    .dataframe thead th {\n",
       "        text-align: left;\n",
       "    }\n",
       "\n",
       "    .dataframe tbody tr th {\n",
       "        vertical-align: top;\n",
       "    }\n",
       "</style>\n",
       "<table border=\"1\" class=\"dataframe\">\n",
       "  <thead>\n",
       "    <tr style=\"text-align: right;\">\n",
       "      <th></th>\n",
       "      <th>Survived</th>\n",
       "      <th>Pclass</th>\n",
       "      <th>Sex</th>\n",
       "      <th>Age</th>\n",
       "      <th>SibSp</th>\n",
       "      <th>Parch</th>\n",
       "    </tr>\n",
       "  </thead>\n",
       "  <tbody>\n",
       "    <tr>\n",
       "      <th>0</th>\n",
       "      <td>0</td>\n",
       "      <td>3</td>\n",
       "      <td>male</td>\n",
       "      <td>22.0</td>\n",
       "      <td>1</td>\n",
       "      <td>0</td>\n",
       "    </tr>\n",
       "    <tr>\n",
       "      <th>1</th>\n",
       "      <td>1</td>\n",
       "      <td>1</td>\n",
       "      <td>female</td>\n",
       "      <td>38.0</td>\n",
       "      <td>1</td>\n",
       "      <td>0</td>\n",
       "    </tr>\n",
       "    <tr>\n",
       "      <th>2</th>\n",
       "      <td>1</td>\n",
       "      <td>3</td>\n",
       "      <td>female</td>\n",
       "      <td>26.0</td>\n",
       "      <td>0</td>\n",
       "      <td>0</td>\n",
       "    </tr>\n",
       "    <tr>\n",
       "      <th>3</th>\n",
       "      <td>1</td>\n",
       "      <td>1</td>\n",
       "      <td>female</td>\n",
       "      <td>35.0</td>\n",
       "      <td>1</td>\n",
       "      <td>0</td>\n",
       "    </tr>\n",
       "    <tr>\n",
       "      <th>4</th>\n",
       "      <td>0</td>\n",
       "      <td>3</td>\n",
       "      <td>male</td>\n",
       "      <td>35.0</td>\n",
       "      <td>0</td>\n",
       "      <td>0</td>\n",
       "    </tr>\n",
       "  </tbody>\n",
       "</table>\n",
       "</div>"
      ],
      "text/plain": [
       "   Survived  Pclass     Sex   Age  SibSp  Parch\n",
       "0         0       3    male  22.0      1      0\n",
       "1         1       1  female  38.0      1      0\n",
       "2         1       3  female  26.0      0      0\n",
       "3         1       1  female  35.0      1      0\n",
       "4         0       3    male  35.0      0      0"
      ]
     },
     "execution_count": 7,
     "metadata": {},
     "output_type": "execute_result"
    }
   ],
   "source": [
    "# Exclude passengers with missing ages\n",
    "titanic_data_clean = titanic_data.dropna(subset = ['Age'])\n",
    "titanic_data_clean.head()"
   ]
  },
  {
   "cell_type": "code",
   "execution_count": 8,
   "metadata": {},
   "outputs": [
    {
     "name": "stdout",
     "output_type": "stream",
     "text": [
      "<class 'pandas.core.frame.DataFrame'>\n",
      "Int64Index: 714 entries, 0 to 890\n",
      "Data columns (total 6 columns):\n",
      "Survived    714 non-null int64\n",
      "Pclass      714 non-null int64\n",
      "Sex         714 non-null object\n",
      "Age         714 non-null float64\n",
      "SibSp       714 non-null int64\n",
      "Parch       714 non-null int64\n",
      "dtypes: float64(1), int64(4), object(1)\n",
      "memory usage: 39.0+ KB\n"
     ]
    }
   ],
   "source": [
    "# check again the cleaned data info\n",
    "titanic_data_clean.info()"
   ]
  },
  {
   "cell_type": "code",
   "execution_count": 9,
   "metadata": {},
   "outputs": [
    {
     "data": {
      "text/html": [
       "<div>\n",
       "<style>\n",
       "    .dataframe thead tr:only-child th {\n",
       "        text-align: right;\n",
       "    }\n",
       "\n",
       "    .dataframe thead th {\n",
       "        text-align: left;\n",
       "    }\n",
       "\n",
       "    .dataframe tbody tr th {\n",
       "        vertical-align: top;\n",
       "    }\n",
       "</style>\n",
       "<table border=\"1\" class=\"dataframe\">\n",
       "  <thead>\n",
       "    <tr style=\"text-align: right;\">\n",
       "      <th></th>\n",
       "      <th>Survived</th>\n",
       "      <th>Pclass</th>\n",
       "      <th>Age</th>\n",
       "      <th>SibSp</th>\n",
       "      <th>Parch</th>\n",
       "    </tr>\n",
       "  </thead>\n",
       "  <tbody>\n",
       "    <tr>\n",
       "      <th>count</th>\n",
       "      <td>714.000000</td>\n",
       "      <td>714.000000</td>\n",
       "      <td>714.000000</td>\n",
       "      <td>714.000000</td>\n",
       "      <td>714.000000</td>\n",
       "    </tr>\n",
       "    <tr>\n",
       "      <th>mean</th>\n",
       "      <td>0.406162</td>\n",
       "      <td>2.236695</td>\n",
       "      <td>29.699118</td>\n",
       "      <td>0.512605</td>\n",
       "      <td>0.431373</td>\n",
       "    </tr>\n",
       "    <tr>\n",
       "      <th>std</th>\n",
       "      <td>0.491460</td>\n",
       "      <td>0.838250</td>\n",
       "      <td>14.526497</td>\n",
       "      <td>0.929783</td>\n",
       "      <td>0.853289</td>\n",
       "    </tr>\n",
       "    <tr>\n",
       "      <th>min</th>\n",
       "      <td>0.000000</td>\n",
       "      <td>1.000000</td>\n",
       "      <td>0.420000</td>\n",
       "      <td>0.000000</td>\n",
       "      <td>0.000000</td>\n",
       "    </tr>\n",
       "    <tr>\n",
       "      <th>25%</th>\n",
       "      <td>0.000000</td>\n",
       "      <td>1.000000</td>\n",
       "      <td>20.125000</td>\n",
       "      <td>0.000000</td>\n",
       "      <td>0.000000</td>\n",
       "    </tr>\n",
       "    <tr>\n",
       "      <th>50%</th>\n",
       "      <td>0.000000</td>\n",
       "      <td>2.000000</td>\n",
       "      <td>28.000000</td>\n",
       "      <td>0.000000</td>\n",
       "      <td>0.000000</td>\n",
       "    </tr>\n",
       "    <tr>\n",
       "      <th>75%</th>\n",
       "      <td>1.000000</td>\n",
       "      <td>3.000000</td>\n",
       "      <td>38.000000</td>\n",
       "      <td>1.000000</td>\n",
       "      <td>1.000000</td>\n",
       "    </tr>\n",
       "    <tr>\n",
       "      <th>max</th>\n",
       "      <td>1.000000</td>\n",
       "      <td>3.000000</td>\n",
       "      <td>80.000000</td>\n",
       "      <td>5.000000</td>\n",
       "      <td>6.000000</td>\n",
       "    </tr>\n",
       "  </tbody>\n",
       "</table>\n",
       "</div>"
      ],
      "text/plain": [
       "         Survived      Pclass         Age       SibSp       Parch\n",
       "count  714.000000  714.000000  714.000000  714.000000  714.000000\n",
       "mean     0.406162    2.236695   29.699118    0.512605    0.431373\n",
       "std      0.491460    0.838250   14.526497    0.929783    0.853289\n",
       "min      0.000000    1.000000    0.420000    0.000000    0.000000\n",
       "25%      0.000000    1.000000   20.125000    0.000000    0.000000\n",
       "50%      0.000000    2.000000   28.000000    0.000000    0.000000\n",
       "75%      1.000000    3.000000   38.000000    1.000000    1.000000\n",
       "max      1.000000    3.000000   80.000000    5.000000    6.000000"
      ]
     },
     "execution_count": 9,
     "metadata": {},
     "output_type": "execute_result"
    }
   ],
   "source": [
    "titanic_data_clean.describe()"
   ]
  },
  {
   "cell_type": "code",
   "execution_count": 11,
   "metadata": {},
   "outputs": [
    {
     "data": {
      "text/html": [
       "<div>\n",
       "<style>\n",
       "    .dataframe thead tr:only-child th {\n",
       "        text-align: right;\n",
       "    }\n",
       "\n",
       "    .dataframe thead th {\n",
       "        text-align: left;\n",
       "    }\n",
       "\n",
       "    .dataframe tbody tr th {\n",
       "        vertical-align: top;\n",
       "    }\n",
       "</style>\n",
       "<table border=\"1\" class=\"dataframe\">\n",
       "  <thead>\n",
       "    <tr style=\"text-align: right;\">\n",
       "      <th></th>\n",
       "      <th>Survived</th>\n",
       "      <th>Pclass</th>\n",
       "      <th>Age</th>\n",
       "      <th>SibSp</th>\n",
       "      <th>Parch</th>\n",
       "    </tr>\n",
       "  </thead>\n",
       "  <tbody>\n",
       "    <tr>\n",
       "      <th>count</th>\n",
       "      <td>891.000000</td>\n",
       "      <td>891.000000</td>\n",
       "      <td>714.000000</td>\n",
       "      <td>891.000000</td>\n",
       "      <td>891.000000</td>\n",
       "    </tr>\n",
       "    <tr>\n",
       "      <th>mean</th>\n",
       "      <td>0.383838</td>\n",
       "      <td>2.308642</td>\n",
       "      <td>29.699118</td>\n",
       "      <td>0.523008</td>\n",
       "      <td>0.381594</td>\n",
       "    </tr>\n",
       "    <tr>\n",
       "      <th>std</th>\n",
       "      <td>0.486592</td>\n",
       "      <td>0.836071</td>\n",
       "      <td>14.526497</td>\n",
       "      <td>1.102743</td>\n",
       "      <td>0.806057</td>\n",
       "    </tr>\n",
       "    <tr>\n",
       "      <th>min</th>\n",
       "      <td>0.000000</td>\n",
       "      <td>1.000000</td>\n",
       "      <td>0.420000</td>\n",
       "      <td>0.000000</td>\n",
       "      <td>0.000000</td>\n",
       "    </tr>\n",
       "    <tr>\n",
       "      <th>25%</th>\n",
       "      <td>0.000000</td>\n",
       "      <td>2.000000</td>\n",
       "      <td>20.125000</td>\n",
       "      <td>0.000000</td>\n",
       "      <td>0.000000</td>\n",
       "    </tr>\n",
       "    <tr>\n",
       "      <th>50%</th>\n",
       "      <td>0.000000</td>\n",
       "      <td>3.000000</td>\n",
       "      <td>28.000000</td>\n",
       "      <td>0.000000</td>\n",
       "      <td>0.000000</td>\n",
       "    </tr>\n",
       "    <tr>\n",
       "      <th>75%</th>\n",
       "      <td>1.000000</td>\n",
       "      <td>3.000000</td>\n",
       "      <td>38.000000</td>\n",
       "      <td>1.000000</td>\n",
       "      <td>0.000000</td>\n",
       "    </tr>\n",
       "    <tr>\n",
       "      <th>max</th>\n",
       "      <td>1.000000</td>\n",
       "      <td>3.000000</td>\n",
       "      <td>80.000000</td>\n",
       "      <td>8.000000</td>\n",
       "      <td>6.000000</td>\n",
       "    </tr>\n",
       "  </tbody>\n",
       "</table>\n",
       "</div>"
      ],
      "text/plain": [
       "         Survived      Pclass         Age       SibSp       Parch\n",
       "count  891.000000  891.000000  714.000000  891.000000  891.000000\n",
       "mean     0.383838    2.308642   29.699118    0.523008    0.381594\n",
       "std      0.486592    0.836071   14.526497    1.102743    0.806057\n",
       "min      0.000000    1.000000    0.420000    0.000000    0.000000\n",
       "25%      0.000000    2.000000   20.125000    0.000000    0.000000\n",
       "50%      0.000000    3.000000   28.000000    0.000000    0.000000\n",
       "75%      1.000000    3.000000   38.000000    1.000000    0.000000\n",
       "max      1.000000    3.000000   80.000000    8.000000    6.000000"
      ]
     },
     "execution_count": 11,
     "metadata": {},
     "output_type": "execute_result"
    }
   ],
   "source": [
    "titanic_data.describe()"
   ]
  },
  {
   "cell_type": "markdown",
   "metadata": {},
   "source": [
    "The data now can be explored. Here we see the cleaned data set titanic_data_clean which excluded missing \"Age\" data row and some unique data row ('PassengerId', 'Name','Ticket','Fare','Cabin','Embarked'), and this is for \"Age\" related analysis. And there are 177 missing Age values rows but with available value of other attributes we are interested, such as \"Survived\", \"Sex\" and \"Pclass\", so data set titanic_data will be analyzed for these attributes."
   ]
  },
  {
   "cell_type": "markdown",
   "metadata": {},
   "source": [
    "## Data Exploration ##\n",
    "### Passangers Information Summary ###"
   ]
  },
  {
   "cell_type": "code",
   "execution_count": 114,
   "metadata": {},
   "outputs": [
    {
     "data": {
      "image/png": "[encoded data removed]",
      "text/plain": [
       "<matplotlib.figure.Figure at 0xfc677b8>"
      ]
     },
     "metadata": {},
     "output_type": "display_data"
    }
   ],
   "source": [
    "%matplotlib inline\n",
    "plt.subplot2grid((2,2),(0,0))\n",
    "titanic_data['Survived'].value_counts().plot(kind='bar')\n",
    "survival = ('not survived', 'survived')\n",
    "y_pos = np.arange(len(survival))\n",
    "plt.xticks(y_pos,survival,rotation='horizontal')\n",
    "plt.title('Survival Summary')\n",
    "plt.ylabel('Number of people')\n",
    "\n",
    "plt.subplot2grid((2,2),(0,1))\n",
    "titanic_data['Sex'].value_counts().plot(kind='bar')\n",
    "plt.xticks(rotation='horizontal')\n",
    "plt.title('Sex Summary')\n",
    "plt.ylabel('Number of people')\n",
    "\n",
    "plt.subplot2grid((2,2),(1,0))\n",
    "titanic_data['Pclass'].value_counts().plot(kind='bar')\n",
    "plt.xticks(rotation='horizontal')\n",
    "plt.xlabel('Ticket Class')\n",
    "plt.title('Ticket class Summary')\n",
    "plt.ylabel('Number of people')\n",
    "\n",
    "plt.subplot2grid((2,2),(1,1))\n",
    "titanic_data_clean['Age'].plot(kind='kde',xticks=[0,20,40,60,80,100],)\n",
    "plt.title('Age Summary')\n",
    "plt.xlabel('Age in Years')\n",
    "plt.ylabel('Passangers Density')\n",
    "\n",
    "plt.tight_layout()"
   ]
  },
  {
   "cell_type": "code",
   "execution_count": 50,
   "metadata": {
    "collapsed": true
   },
   "outputs": [],
   "source": [
    "#rate calculator\n",
    "def rate_calculator_oned (attribute, value):\n",
    "    total_number = float(titanic_data[attribute].size)\n",
    "    specific_number = float(titanic_data[attribute].value_counts()[value])\n",
    "    \n",
    "    return round((specific_number/total_number),2)\n"
   ]
  },
  {
   "cell_type": "markdown",
   "metadata": {},
   "source": [
    "**Total Passangers Survival Summary:**"
   ]
  },
  {
   "cell_type": "code",
   "execution_count": 51,
   "metadata": {},
   "outputs": [
    {
     "name": "stdout",
     "output_type": "stream",
     "text": [
      "Total survival rate: 0.38\n"
     ]
    }
   ],
   "source": [
    "titanic_data['Survived'].value_counts()  #print to see number of survived and not survived people\n",
    "\n",
    "print \"Total survival rate: {}\".format(rate_calculator_oned ('Survived', 1))"
   ]
  },
  {
   "cell_type": "markdown",
   "metadata": {},
   "source": [
    "**Passangers Sex Distribution Summary**"
   ]
  },
  {
   "cell_type": "code",
   "execution_count": 52,
   "metadata": {},
   "outputs": [
    {
     "name": "stdout",
     "output_type": "stream",
     "text": [
      "Female passangers rate: 0.35\n",
      "Male passangers rate: 0.65\n"
     ]
    }
   ],
   "source": [
    "titanic_data['Sex'].value_counts()      #print to see number of female and male passanger\n",
    "\n",
    "print \"Female passangers rate: {}\".format(rate_calculator_oned ('Sex', 'female'))\n",
    "print \"Male passangers rate: {}\".format(rate_calculator_oned ('Sex', 'male'))"
   ]
  },
  {
   "cell_type": "markdown",
   "metadata": {},
   "source": [
    "**Passangers Ticket Class Distribution Summary**"
   ]
  },
  {
   "cell_type": "code",
   "execution_count": 24,
   "metadata": {},
   "outputs": [
    {
     "name": "stdout",
     "output_type": "stream",
     "text": [
      "Class 1 passangers rate: 0.24\n",
      "Class 2 passangers rate: 0.21\n",
      "Class 3 passangers rate: 0.55\n"
     ]
    }
   ],
   "source": [
    "titanic_data['Pclass'].value_counts()      #print to see number of every class passangers\n",
    "\n",
    "print \"Class 1 passangers rate: {}\".format(rate_calculator_oned ('Pclass', 1))\n",
    "print \"Class 2 passangers rate: {}\".format(rate_calculator_oned ('Pclass', 2))\n",
    "print \"Class 3 passangers rate: {}\".format(rate_calculator_oned ('Pclass', 3))"
   ]
  },
  {
   "cell_type": "markdown",
   "metadata": {},
   "source": [
    "The above Passangers Information Summary shows that less then half of the passangers were survived and the survival rate is 0.41. \n",
    "\n",
    "Female passangers were less than male passangers, with a rate of 0.37 while male passangers had a rate of 0.63, let's see if the survival rate for female passangers is less or more than male passangers later.\n",
    "\n",
    "Half of the passangers had a class 3 ticket, and the rest class 1 and class 2 passangers had almost the same rate.\n"
   ]
  },
  {
   "cell_type": "markdown",
   "metadata": {},
   "source": [
    "### Attribute 1: Sex###\n",
    "Now let's see what's the relationship between sex and the survival rate. (Question 1)"
   ]
  },
  {
   "cell_type": "code",
   "execution_count": 66,
   "metadata": {},
   "outputs": [
    {
     "name": "stdout",
     "output_type": "stream",
     "text": [
      "Female survival rate: 0.74\n",
      "Male survival rate: 0.19\n"
     ]
    }
   ],
   "source": [
    "# Returns survival proportions/rates of sex\n",
    "def survival_rate(sex):\n",
    "    grouped_by_total = titanic_data.groupby('Sex').size()[sex].astype('float')\n",
    "    grouped_by_survived = titanic_data.groupby(['Survived','Sex']).size()[1,sex].astype('float')\n",
    "    survived_sex_rate = (grouped_by_survived / grouped_by_total).round(2)\n",
    "\n",
    "    return survived_sex_rate\n",
    "\n",
    "female_survival_rate = survival_rate('female')\n",
    "male_survival_rate = survival_rate('male')\n",
    "\n",
    "print 'Female survival rate: {}'.format(female_survival_rate)\n",
    "print 'Male survival rate: {}'.format(male_survival_rate)"
   ]
  },
  {
   "cell_type": "code",
   "execution_count": 90,
   "metadata": {},
   "outputs": [
    {
     "data": {
      "image/png": "[encoded data removed]",
      "text/plain": [
       "<matplotlib.figure.Figure at 0x10004dd8>"
      ]
     },
     "metadata": {},
     "output_type": "display_data"
    }
   ],
   "source": [
    "# plot chart for rate of survivors by sex\n",
    "sex_category = ('female','male')\n",
    "y_pos = np.arange(len(sex_category))\n",
    "survival_rate = [female_survival_rate, male_survival_rate]\n",
    "\n",
    "barlist= plt.bar(y_pos,survival_rate, align='center', alpha = 1)\n",
    "barlist[1].set_color('g')\n",
    "plt.xticks(y_pos, sex_category)\n",
    "plt.ylabel('Survival Rate')\n",
    "plt.title('Survival Over Sex')\n",
    "\n",
    "plt.show()"
   ]
  },
  {
   "cell_type": "code",
   "execution_count": 96,
   "metadata": {},
   "outputs": [
    {
     "data": {
      "text/plain": [
       "<matplotlib.figure.Figure at 0xf7af6d8>"
      ]
     },
     "metadata": {},
     "output_type": "display_data"
    },
    {
     "data": {
      "image/png": "[encoded data removed]",
      "text/plain": [
       "<matplotlib.figure.Figure at 0xfc9f0b8>"
      ]
     },
     "metadata": {},
     "output_type": "display_data"
    }
   ],
   "source": [
    "fig = plt.figure()\n",
    "\n",
    "survived_male = titanic_data.Survived[titanic_data.Sex == 'male'].value_counts()\n",
    "survived_female = titanic_data.Survived[titanic_data.Sex == 'female'].value_counts()\n",
    "df=pd.DataFrame({'male':survived_male, 'female':survived_female})\n",
    "\n",
    "df.plot(kind='bar', stacked=True)\n",
    "survival = ('not survived', 'survived')\n",
    "y_pos = np.arange(len(survival))\n",
    "plt.title('Survival over Sex')\n",
    "plt.xticks(y_pos,survival,rotation='horizontal')\n",
    "plt.ylabel('Number of People')\n",
    "plt.show()"
   ]
  },
  {
   "cell_type": "markdown",
   "metadata": {},
   "source": [
    "Now we see among three ticket class if the distribution looks same with above."
   ]
  },
  {
   "cell_type": "code",
   "execution_count": 98,
   "metadata": {
    "collapsed": true
   },
   "outputs": [],
   "source": [
    "def survived_sex_by_class(x):   #see survived sex distribution in different ticket class\n",
    "    fig = plt.figure()\n",
    "\n",
    "    class_x = titanic_data[titanic_data.Pclass == x]\n",
    "\n",
    "    class_x_survived_male = class_x.Survived[class_x.Sex == 'male'].value_counts()\n",
    "    class_x_survived_female = class_x.Survived[class_x.Sex == 'female'].value_counts()\n",
    "    df=pd.DataFrame({'male':class_x_survived_male, 'female':class_x_survived_female})\n",
    "    \n",
    "    return df"
   ]
  },
  {
   "cell_type": "code",
   "execution_count": 129,
   "metadata": {},
   "outputs": [
    {
     "data": {
      "text/plain": [
       "<matplotlib.figure.Figure at 0xfff4390>"
      ]
     },
     "metadata": {},
     "output_type": "display_data"
    },
    {
     "data": {
      "image/png": "[encoded data removed]",
      "text/plain": [
       "<matplotlib.figure.Figure at 0xf79cf28>"
      ]
     },
     "metadata": {},
     "output_type": "display_data"
    }
   ],
   "source": [
    "survived_sex_by_class_one = survived_sex_by_class(1)\n",
    "survived_sex_by_class_one.plot(kind='bar', stacked=True)\n",
    "survival = ('not survived', 'survived')\n",
    "y_pos = np.arange(len(survival))\n",
    "plt.xticks(y_pos,survival,rotation='horizontal')\n",
    "plt.title('Survival by Sex in class 1')\n",
    "plt.ylabel('Number of People')\n",
    "plt.legend(loc='upper left')\n",
    "plt.show()"
   ]
  },
  {
   "cell_type": "code",
   "execution_count": 125,
   "metadata": {},
   "outputs": [
    {
     "data": {
      "text/plain": [
       "<matplotlib.figure.Figure at 0xf7af6a0>"
      ]
     },
     "metadata": {},
     "output_type": "display_data"
    },
    {
     "data": {
      "image/png": "[encoded data removed]",
      "text/plain": [
       "<matplotlib.figure.Figure at 0x10a9f320>"
      ]
     },
     "metadata": {},
     "output_type": "display_data"
    }
   ],
   "source": [
    "survived_sex_by_class_one = survived_sex_by_class(2)\n",
    "survived_sex_by_class_one.plot(kind='bar', stacked=True)\n",
    "survival = ('not survived', 'survived')\n",
    "y_pos = np.arange(len(survival))\n",
    "plt.xticks(y_pos,survival,rotation='horizontal')\n",
    "plt.title('Survival by Sex in class 2')\n",
    "plt.ylabel('Number of People')\n",
    "plt.legend(loc='upper center')\n",
    "plt.show()"
   ]
  },
  {
   "cell_type": "code",
   "execution_count": 128,
   "metadata": {},
   "outputs": [
    {
     "data": {
      "text/plain": [
       "<matplotlib.figure.Figure at 0xee8ab00>"
      ]
     },
     "metadata": {},
     "output_type": "display_data"
    },
    {
     "data": {
      "image/png": "[encoded data removed]",
      "text/plain": [
       "<matplotlib.figure.Figure at 0xf25aa20>"
      ]
     },
     "metadata": {},
     "output_type": "display_data"
    }
   ],
   "source": [
    "survived_sex_by_class_one = survived_sex_by_class(3)\n",
    "survived_sex_by_class_one.plot(kind='bar', stacked=True)\n",
    "survival = ('not survived', 'survived')\n",
    "#y_pos = np.arange(len(survival))\n",
    "plt.xticks(y_pos,survival,rotation='horizontal')\n",
    "plt.title('Survival by Sex in class 3')\n",
    "plt.ylabel('Number of People')\n",
    "plt.legend(loc='upper right')\n",
    "plt.show()"
   ]
  },
  {
   "cell_type": "markdown",
   "metadata": {},
   "source": [
    "From above visuallizations we can see that women's survival rate is much higher than men, which is about 0.755 while only 0.205 for men. Most of the women were survived. If see the survival rate by sex in each ticket class group, we can also see the same result that women's survival rate is higher than men's. But here we can notice that the survival distribution amongt these three different class is different, so except sex the ticket class is another obvious factor that influence people's survival rate."
   ]
  },
  {
   "cell_type": "markdown",
   "metadata": {},
   "source": [
    "### Attribute 2: Ticket Class ###\n",
    "Let's move on to see the contribution of ticket class to passanger's survival rate."
   ]
  },
  {
   "cell_type": "code",
   "execution_count": 40,
   "metadata": {},
   "outputs": [
    {
     "name": "stdout",
     "output_type": "stream",
     "text": [
      "Pclass\n",
      "1    0.655914\n",
      "2    0.479769\n",
      "3    0.239437\n",
      "Name: Survived, dtype: float64\n"
     ]
    }
   ],
   "source": [
    "#survival rates by different ticket class\n",
    "Survived_by_class = titanic_data_clean.groupby('Pclass').mean()['Survived']\n",
    "print Survived_by_class"
   ]
  },
  {
   "cell_type": "code",
   "execution_count": 108,
   "metadata": {},
   "outputs": [
    {
     "data": {
      "text/plain": [
       "<matplotlib.figure.Figure at 0xfe285f8>"
      ]
     },
     "metadata": {},
     "output_type": "display_data"
    },
    {
     "data": {
      "image/png": "[encoded data removed]",
      "text/plain": [
       "<matplotlib.figure.Figure at 0xfa63978>"
      ]
     },
     "metadata": {},
     "output_type": "display_data"
    }
   ],
   "source": [
    "fig = plt.figure()\n",
    "\n",
    "survived = titanic_data_clean.Pclass[titanic_data_clean.Survived == 1].value_counts()\n",
    "not_survived = titanic_data_clean.Pclass[titanic_data_clean.Survived == 0].value_counts()\n",
    "df=pd.DataFrame({'survived':survived, 'not survived':not_survived})\n",
    "\n",
    "df.plot(kind='bar', stacked=True)\n",
    "plt.title('Survival by Ticket Class' )\n",
    "survival = ('class 1', 'class 2', 'class 3')\n",
    "y_pos = np.arange(len(survival))\n",
    "plt.xticks(y_pos,survival,rotation='horizontal')\n",
    "plt.ylabel('Number of People') \n",
    "plt.show()"
   ]
  },
  {
   "cell_type": "markdown",
   "metadata": {},
   "source": [
    "The above visuallizaiton shows clearly that the class 1 has a higher survival rate while the class 3 has the lowest survival rate. After calculating passangers with ticket class 1 has the highest survival rate as 0.656, with ticket class 2 has a survival rate 0.480, and with ticket class 3 has the lowet survival rate which is only 0.240."
   ]
  },
  {
   "cell_type": "markdown",
   "metadata": {},
   "source": [
    "### Attribute 3: Age ###\n",
    "Now let's see if age also a obvious factor of people's chance of survival."
   ]
  },
  {
   "cell_type": "code",
   "execution_count": 56,
   "metadata": {},
   "outputs": [
    {
     "data": {
      "text/plain": [
       "<matplotlib.axes._subplots.AxesSubplot at 0xdb48198>"
      ]
     },
     "execution_count": 56,
     "metadata": {},
     "output_type": "execute_result"
    },
    {
     "data": {
      "image/png": "[encoded data removed]",
      "text/plain": [
       "<matplotlib.figure.Figure at 0xb44b668>"
      ]
     },
     "metadata": {},
     "output_type": "display_data"
    }
   ],
   "source": [
    "#plot 'Survived' and 'Not Survived' curve\n",
    "titanic_data_clean.Age[titanic_data_clean.Survived == 1].plot(\n",
    "    kind='kde',\n",
    "    xticks=[0,20,40,60,80,100],\n",
    "    title='Survival Over Age',\n",
    "    legend=True,\n",
    "    label='Survived',\n",
    "    color='green')\n",
    "\n",
    "titanic_data_clean.Age[titanic_data_clean.Survived == 0].plot(\n",
    "    kind='kde',\n",
    "    xticks=[0,20,40,60,80,100],\n",
    "    title='Survival Over Age',\n",
    "    legend=True,\n",
    "    label='Not Survived',\n",
    "    color='red')\n"
   ]
  },
  {
   "cell_type": "markdown",
   "metadata": {},
   "source": [
    "Actually we can notice that for children there is a higher chance of survival (where the green curve is above the red curve). So it will make sense to cut the age into serveral intervals for further analysis.\n",
    "+  0~10: 0 to 10 years old\n",
    "+ 10~20: 10 to 20 years old\n",
    "+ 20~30: 20 to 30 years old\n",
    "+ 30~40: 30 to 40 years old\n",
    "+ 40~50: 40 to 50 years old\n",
    "+ 50~60: 50 to 60 years old\n",
    "+ above 60: above 60 years old"
   ]
  },
  {
   "cell_type": "code",
   "execution_count": 80,
   "metadata": {},
   "outputs": [
    {
     "data": {
      "text/html": [
       "<div>\n",
       "<style>\n",
       "    .dataframe thead tr:only-child th {\n",
       "        text-align: right;\n",
       "    }\n",
       "\n",
       "    .dataframe thead th {\n",
       "        text-align: left;\n",
       "    }\n",
       "\n",
       "    .dataframe tbody tr th {\n",
       "        vertical-align: top;\n",
       "    }\n",
       "</style>\n",
       "<table border=\"1\" class=\"dataframe\">\n",
       "  <thead>\n",
       "    <tr style=\"text-align: right;\">\n",
       "      <th></th>\n",
       "      <th>Survived</th>\n",
       "      <th>Pclass</th>\n",
       "      <th>Sex</th>\n",
       "      <th>Age</th>\n",
       "      <th>SibSp</th>\n",
       "      <th>Parch</th>\n",
       "      <th>Age_category</th>\n",
       "    </tr>\n",
       "  </thead>\n",
       "  <tbody>\n",
       "    <tr>\n",
       "      <th>0</th>\n",
       "      <td>0.0</td>\n",
       "      <td>3.0</td>\n",
       "      <td>male</td>\n",
       "      <td>22.0</td>\n",
       "      <td>1.0</td>\n",
       "      <td>0.0</td>\n",
       "      <td>20~30</td>\n",
       "    </tr>\n",
       "    <tr>\n",
       "      <th>1</th>\n",
       "      <td>1.0</td>\n",
       "      <td>1.0</td>\n",
       "      <td>female</td>\n",
       "      <td>38.0</td>\n",
       "      <td>1.0</td>\n",
       "      <td>0.0</td>\n",
       "      <td>30~40</td>\n",
       "    </tr>\n",
       "    <tr>\n",
       "      <th>2</th>\n",
       "      <td>1.0</td>\n",
       "      <td>3.0</td>\n",
       "      <td>female</td>\n",
       "      <td>26.0</td>\n",
       "      <td>0.0</td>\n",
       "      <td>0.0</td>\n",
       "      <td>20~30</td>\n",
       "    </tr>\n",
       "    <tr>\n",
       "      <th>3</th>\n",
       "      <td>1.0</td>\n",
       "      <td>1.0</td>\n",
       "      <td>female</td>\n",
       "      <td>35.0</td>\n",
       "      <td>1.0</td>\n",
       "      <td>0.0</td>\n",
       "      <td>30~40</td>\n",
       "    </tr>\n",
       "    <tr>\n",
       "      <th>4</th>\n",
       "      <td>0.0</td>\n",
       "      <td>3.0</td>\n",
       "      <td>male</td>\n",
       "      <td>35.0</td>\n",
       "      <td>0.0</td>\n",
       "      <td>0.0</td>\n",
       "      <td>30~40</td>\n",
       "    </tr>\n",
       "  </tbody>\n",
       "</table>\n",
       "</div>"
      ],
      "text/plain": [
       "   Survived  Pclass     Sex   Age  SibSp  Parch Age_category\n",
       "0       0.0     3.0    male  22.0    1.0    0.0        20~30\n",
       "1       1.0     1.0  female  38.0    1.0    0.0        30~40\n",
       "2       1.0     3.0  female  26.0    0.0    0.0        20~30\n",
       "3       1.0     1.0  female  35.0    1.0    0.0        30~40\n",
       "4       0.0     3.0    male  35.0    0.0    0.0        30~40"
      ]
     },
     "execution_count": 80,
     "metadata": {},
     "output_type": "execute_result"
    }
   ],
   "source": [
    "def Age_category(years):\n",
    "    if years > 0 and years < 10:\n",
    "        return '0~10'\n",
    "    elif years > 10 and years < 20:\n",
    "        return '10~20'\n",
    "    elif years > 20 and years < 30:\n",
    "        return '20~30'\n",
    "    elif years > 30 and years < 40:\n",
    "        return '30~40'\n",
    "    elif years > 40 and years < 50:\n",
    "        return '40~50'\n",
    "    elif years > 50 and years < 60:\n",
    "        return '50~60'\n",
    "    else:\n",
    "        return 'above 60'\n",
    "    \n",
    "titanic_data_clean['Age_category'] = titanic_data_clean['Age'].apply(Age_category)\n",
    "titanic_data_clean.head()"
   ]
  },
  {
   "cell_type": "code",
   "execution_count": 81,
   "metadata": {},
   "outputs": [
    {
     "data": {
      "text/plain": [
       "Age_category\n",
       "0~10        0.612903\n",
       "10~20       0.410000\n",
       "20~30       0.360976\n",
       "30~40       0.443662\n",
       "40~50       0.368421\n",
       "50~60       0.394737\n",
       "above 60    0.340659\n",
       "Name: Survived, dtype: float64"
      ]
     },
     "execution_count": 81,
     "metadata": {},
     "output_type": "execute_result"
    }
   ],
   "source": [
    "survival_age_cagetory=titanic_data_clean.groupby('Age_category')['Survived'].mean()\n",
    "survival_age_cagetory"
   ]
  },
  {
   "cell_type": "code",
   "execution_count": 83,
   "metadata": {},
   "outputs": [
    {
     "data": {
      "text/plain": [
       "<matplotlib.text.Text at 0xed8f898>"
      ]
     },
     "execution_count": 83,
     "metadata": {},
     "output_type": "execute_result"
    },
    {
     "data": {
      "image/png": "[encoded data removed]",
      "text/plain": [
       "<matplotlib.figure.Figure at 0xda00f98>"
      ]
     },
     "metadata": {},
     "output_type": "display_data"
    }
   ],
   "source": [
    "#plot bar graph\n",
    "ax = survival_age_cagetory.plot( \n",
    "    title='Survival over age category', \n",
    "    kind='bar',\n",
    "    yticks=[0.1,0.2,0.3,0.4,0.5,0.6,0.7,0.8,0.9,1.0],\n",
    "    color='g')\n",
    "\n",
    "#set labels for axis\n",
    "ax.set_xlabel(\"Age by year\")\n",
    "ax.set_ylabel(\"Survival rate\")"
   ]
  },
  {
   "cell_type": "markdown",
   "metadata": {},
   "source": [
    "The above visuallization verified that there is a higher chance of survival for children around 0 to 10 years old, and more than half of children were survived whoes survival rate is 0.61. It is higher than the overall survival rate, which is 0.41. The survival rate over age as below:\n",
    "+ Passangers whose age was in 0~10 years old had a survival rate of 0.612903\n",
    "+ Passangers whose age was in 10~20 years old had a survival rate of 0.410000\n",
    "+ Passangers whose age was in 20~30 years old had a survival rate of 0.360976\n",
    "+ Passangers whose age was in 30~40 years old had a survival rate of 0.443662\n",
    "+ Passangers whose age was in 30~40 years old had a survival rate of 0.368421\n",
    "+ Passangers whose age was in 30~40 years old had a survival rate of 0.394737\n",
    "+ Passangers whose age was above 60 years old had a survival rate of 0.340659"
   ]
  },
  {
   "cell_type": "code",
   "execution_count": 84,
   "metadata": {},
   "outputs": [
    {
     "data": {
      "text/plain": [
       "<matplotlib.figure.Figure at 0xee4cf28>"
      ]
     },
     "metadata": {},
     "output_type": "display_data"
    },
    {
     "data": {
      "image/png": "[encoded data removed]",
      "text/plain": [
       "<matplotlib.figure.Figure at 0xec81470>"
      ]
     },
     "metadata": {},
     "output_type": "display_data"
    }
   ],
   "source": [
    "fig = plt.figure()\n",
    "\n",
    "survived = titanic_data_clean.Age_category[titanic_data_clean.Survived == 1].value_counts()\n",
    "not_survived = titanic_data_clean.Age_category[titanic_data_clean.Survived == 0].value_counts()\n",
    "df=pd.DataFrame({'survived':survived, 'not survived':not_survived})\n",
    "\n",
    "df.plot(kind='bar', stacked=True)\n",
    "plt.title('Survival by Age' )\n",
    "plt.xlabel('Age in years') \n",
    "plt.ylabel('Number of People') \n",
    "plt.show()"
   ]
  },
  {
   "cell_type": "markdown",
   "metadata": {},
   "source": [
    "## Conclusion ##\n",
    "### What factors made people more likely to survive? ###\n",
    "\n",
    "The factors that were most likely to influence one's chance of survival in the sinking of the Titanic were:\n",
    "\n",
    "#### Sex ####\n",
    "women's survival rate is much higher than men, which is about 0.755 while only 0.205 for men. Most of the women were survived. Even when investigating from three ticket class respectively, we can also draw the conclusion that women had higher chance of survival compared with men in the sinking of the Titanic.\n",
    "\n",
    "#### Ticket Class####\n",
    "A better travel ticket class is positively correlated with the survival rate. Passangers with a ticket of class 1 has the highest survival rate while the one with ticket of class 3 has the lowest survival rate.\n",
    "\n",
    "#### Age ####\n",
    "In gerenal children among 0 to 10 years old have had a higher survival rate. \n",
    "\n",
    "### Limitations: ###\n",
    "Not all passagners' information were included in this data set. And the attribute \"Cabin\" can not be analyzed since there were only 204 records in the data set. Maybe the chance of survival also be influenced by \"Cabin\" which is near to the emergency exit. \n",
    "\n",
    "### Reference ###\n",
    "+ https://stackoverflow.com/questions/18084554/why-do-i-get-a-syntaxerror-for-a-unicode-escape-in-my-file-path\n",
    "+ https://pandas.pydata.org/pandas-docs/stable/generated/pandas.DataFrame.info.html\n",
    "+ https://pandas.pydata.org/pandas-docs/stable/generated/pandas.DataFrame.drop.html\n",
    "+ http://pandas.pydata.org/pandas-docs/stable/indexing.html#indexing-view-versus-copy\n",
    "+ https://en.wikipedia.org/wiki/RMS_Titanic\n",
    "+ https://stackoverflow.com/questions/18973404/setting-different-bar-color-in-matplotlib-python"
   ]
  }
 ],
 "metadata": {
  "kernelspec": {
   "display_name": "Python [conda root]",
   "language": "python",
   "name": "conda-root-py"
  },
  "language_info": {
   "codemirror_mode": {
    "name": "ipython",
    "version": 2
   },
   "file_extension": ".py",
   "mimetype": "text/x-python",
   "name": "python",
   "nbconvert_exporter": "python",
   "pygments_lexer": "ipython2",
   "version": "2.7.13"
  }
 },
 "nbformat": 4,
 "nbformat_minor": 2
}
